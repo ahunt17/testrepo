{
  "nbformat": 4,
  "nbformat_minor": 0,
  "metadata": {
    "colab": {
      "provenance": [],
      "include_colab_link": true
    },
    "kernelspec": {
      "name": "python3",
      "display_name": "Python 3"
    },
    "language_info": {
      "name": "python"
    }
  },
  "cells": [
    {
      "cell_type": "markdown",
      "metadata": {
        "id": "view-in-github",
        "colab_type": "text"
      },
      "source": [
        "<a href=\"https://colab.research.google.com/github/ahunt17/testrepo/blob/main/Multiple_Linear_Regression_Clean.ipynb\" target=\"_parent\"><img src=\"https://colab.research.google.com/assets/colab-badge.svg\" alt=\"Open In Colab\"/></a>"
      ]
    },
    {
      "cell_type": "markdown",
      "source": [
        "# Multiple Linear Regression\n",
        "## Predicting Viewing Numbers for Future Series of Seinfeld"
      ],
      "metadata": {
        "id": "TEEfkNm-scwL"
      }
    },
    {
      "cell_type": "code",
      "execution_count": null,
      "metadata": {
        "id": "mUbIhPFOsXNp"
      },
      "outputs": [],
      "source": [
        "import numpy as np\n",
        "from sklearn.linear_model import LinearRegression\n",
        "import matplotlib.pyplot as plt"
      ]
    },
    {
      "cell_type": "markdown",
      "source": [],
      "metadata": {
        "id": "4maICbcMvOxn"
      }
    },
    {
      "cell_type": "code",
      "source": [
        "# Sample data\n",
        "X = np.array([\n",
        "    [1, 9.8, 6.7],\n",
        "    [2, 9.7, 6.6],\n",
        "    [3, 12.5, 7.2],\n",
        "    [4, 13.7, 7.0],\n",
        "    [5, 19.6, 6.8],\n",
        "    [6, 20.6, 8.0],\n",
        "    [7, 21.5, 6.6],\n",
        "    [8, 20.5, 7.3],\n",
        "    [9, 22.0, 7.9]])\n",
        "\n",
        "y = np.array([19.2, 18.1, 17.7, 20.0, 29.6, 31.1, 33.1, 32.3, 35.5])"
      ],
      "metadata": {
        "id": "9MtM6H6ZvI-v"
      },
      "execution_count": null,
      "outputs": []
    },
    {
      "cell_type": "markdown",
      "source": [],
      "metadata": {
        "id": "NGlazSfOwbu8"
      }
    },
    {
      "cell_type": "code",
      "source": [
        "model = LinearRegression()\n",
        "model.fit(X, y)\n",
        "predictions = model.predict(X)"
      ],
      "metadata": {
        "id": "ReCYy3qMwb3z"
      },
      "execution_count": null,
      "outputs": []
    },
    {
      "cell_type": "markdown",
      "source": [],
      "metadata": {
        "id": "NT6-PbgO1sYv"
      }
    },
    {
      "cell_type": "code",
      "source": [
        "# Plot actual data points\n",
        "plt.scatter(X[:, 0], y, color='blue', label='Actual Data')\n",
        "\n",
        "# Plot the regression line for actual viewing numbers\n",
        "plt.plot(X[:, 0], predictions, color='red', linewidth=2, label='Regression Line (actual data )')\n",
        "\n",
        "# Labels\n",
        "plt.title('Multiple Linear Regression: Seinfeld Viewership Prediction')\n",
        "plt.xlabel('Series No.')\n",
        "plt.ylabel('Viewings (millions)')\n",
        "plt.legend()\n",
        "plt.grid()\n",
        "plt.show()"
      ],
      "metadata": {
        "id": "jRzwwKZg1stb"
      },
      "execution_count": null,
      "outputs": []
    },
    {
      "cell_type": "markdown",
      "source": [],
      "metadata": {
        "id": "OgKeAWTD1oUU"
      }
    },
    {
      "cell_type": "code",
      "source": [
        "# Predict viewership for the 10th, 11th, and 12th series\n",
        "new_X = np.array([\n",
        "    [10, 23.2, 11.1],\n",
        "    [11, 25.0, 10.0],\n",
        "    [12, 26.9, 9.7]])\n",
        "\n",
        "new_predictions = model.predict(new_X)"
      ],
      "metadata": {
        "id": "YpnL2mK51ofh"
      },
      "execution_count": null,
      "outputs": []
    },
    {
      "cell_type": "markdown",
      "source": [],
      "metadata": {
        "id": "j-m_p0XP2tN6"
      }
    },
    {
      "cell_type": "code",
      "source": [
        "# Plot actual data points\n",
        "plt.scatter(X[:, 0], y, color='blue', label='Actual Data')\n",
        "\n",
        "# Plot the predicted values for new seasons\n",
        "plt.scatter(new_X[:, 0], new_predictions, color='red', label='Predicted Viewership (New Seasons)')\n",
        "\n",
        "# Plot the regression line for actual viewing numbers\n",
        "plt.plot(X[:, 0], predictions, color='red', linewidth=2, label='Regression Line (trained data )')\n",
        "\n",
        "# Extend the regression line for preducted viewing numbers\n",
        "plt.plot(new_X[:, 0], new_predictions, 'r:', label='Predictions (new data)')\n",
        "\n",
        "plt.title('Multiple Linear Regression: Seinfeld Viewership Prediction')\n",
        "plt.xlabel('Series No.')\n",
        "plt.ylabel('Viewings (millions)')\n",
        "plt.legend()\n",
        "plt.grid()\n",
        "plt.show()"
      ],
      "metadata": {
        "id": "ih2yYEav2tad"
      },
      "execution_count": null,
      "outputs": []
    },
    {
      "cell_type": "markdown",
      "source": [],
      "metadata": {
        "id": "kCGHjCS6GNWM"
      }
    }
  ]
}